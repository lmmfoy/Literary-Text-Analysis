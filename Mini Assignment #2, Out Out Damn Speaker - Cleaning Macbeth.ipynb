{
 "cells": [
  {
   "cell_type": "markdown",
   "metadata": {},
   "source": [
    "# Cleaning a text: Macbeth without the character names\n",
    "\n",
    "I wanted to remove the character names and some of the stage directions from a text of Macbeth found on the Project Gutenberg website.\n",
    "\n",
    "First I fetched the contents of the URL using the library urllib and decoded it to convert byte stream to string type."
   ]
  },
  {
   "cell_type": "code",
   "execution_count": 1,
   "metadata": {},
   "outputs": [
    {
     "data": {
      "text/plain": [
       "'This Etext file is presented by Project Gutenberg, in\\r\\ncooperation with World Library, Inc., from their Library of the\\r\\nFuture and Shakespeare CDROMS.  Project Gutenberg often releases\\r\\nEtexts that ar'"
      ]
     },
     "execution_count": 1,
     "metadata": {},
     "output_type": "execute_result"
    }
   ],
   "source": [
    "import urllib.request\n",
    "\n",
    "macbethUrl = \"http://www.gutenberg.org/files/1129/1129.txt\"\n",
    "macbethSource = urllib.request.urlopen(macbethUrl).read().decode()\n",
    "(macbethSource)[0:200]"
   ]
  },
  {
   "cell_type": "markdown",
   "metadata": {},
   "source": [
    "Next I wanted to remove licensing information from the text, so I searched for \"SCENE:\" to find the beginning of the play and \"-THE END-\" to find the end, and extracted the text in between the two terms."
   ]
  },
  {
   "cell_type": "code",
   "execution_count": 3,
   "metadata": {},
   "outputs": [
    {
     "name": "stdout",
     "output_type": "stream",
     "text": [
      "SCENE: Scotland and England\r\n",
      "\r\n",
      "\r\n",
      "ACT I. SCENE I.\r\n",
      "A desert place. Thunder and li \n",
      "\n",
      "                                             Flourish. Exeunt.\r\n",
      "                 \n"
     ]
    }
   ],
   "source": [
    "locationOfScene = macbethSource.find(\"SCENE:\") #find \"SCENE:\"\n",
    "locationOfEnd = macbethSource.find(\"-THE END-\") #find \"-THE END-\"\n",
    "noStartnoEnd = macbethSource[locationOfScene:locationOfEnd] #keep text from \"SCENE:\" to \"-THE END-\"\n",
    "print(noStartnoEnd[0:80], \"\\n\\n\", noStartnoEnd[-80:])\n",
    "\n"
   ]
  },
  {
   "cell_type": "markdown",
   "metadata": {},
   "source": [
    "Finally, I wanted to remove the character names and some stage directions from the text using regular expressions. I searched through the string for lines that did not start with a space, then removed these lines. Next, to remove the character names, I searched through the string for one to two words in all caps following a space and ending with a period."
   ]
  },
  {
   "cell_type": "code",
   "execution_count": 8,
   "metadata": {},
   "outputs": [
    {
     "name": "stdout",
     "output_type": "stream",
     "text": [
      " When shall we three meet again?\r\n",
      "    In thunder, lightning, or in rain?\r\n",
      " When the hurlyburly's done,\r\n",
      "    When the battle's lost and won.\r\n",
      " That will be ere the set of sun.\r\n",
      " Where the place?\r\n",
      " Upon the heath.\r\n",
      " There to meet with Macbeth.\r\n",
      " I come, Graymalkin.\r\n",
      " Paddock calls. Anon!\r\n",
      "    Fair is foul, and foul is fair.\r\n",
      "    Hover through the fog and filthy air.                Exeunt.\r\n",
      " What bloody man is that? He can report,\r\n",
      "    As seemeth by his plight, of the revolt\r\n",
      "    The newest state.\r\n"
     ]
    }
   ],
   "source": [
    "import re\n",
    "speechRe = re.compile(r\"^\\S.*\", re.M) #\"^\\S.*\": each line that doesn't start with whitespace, until the end of the line  #re.M: flag for regular expression to match at the beginning of each line using new line characters\n",
    "justSpeeches = re.sub(speechRe, \"\", noStartnoEnd) #remove speechRe\n",
    "characterRe = re.compile(r\"^\\s+[A-Z]+(\\s[A-Z]+)*\\.\", re.M) #\"^\\s+[A-Z]+(\\s[A-Z]+)*\\.\": one or more spaces followed by one to two words made up of capital letters ending in a period\n",
    "noCharacters = re.sub(characterRe, \"\", justSpeeches) #remove characterRe\n",
    "print(noCharacters[0:500])\n"
   ]
  },
  {
   "cell_type": "code",
   "execution_count": null,
   "metadata": {},
   "outputs": [],
   "source": []
  },
  {
   "cell_type": "code",
   "execution_count": null,
   "metadata": {},
   "outputs": [],
   "source": []
  }
 ],
 "metadata": {
  "kernelspec": {
   "display_name": "Python 3",
   "language": "python",
   "name": "python3"
  },
  "language_info": {
   "codemirror_mode": {
    "name": "ipython",
    "version": 3
   },
   "file_extension": ".py",
   "mimetype": "text/x-python",
   "name": "python",
   "nbconvert_exporter": "python",
   "pygments_lexer": "ipython3",
   "version": "3.7.1"
  }
 },
 "nbformat": 4,
 "nbformat_minor": 2
}
