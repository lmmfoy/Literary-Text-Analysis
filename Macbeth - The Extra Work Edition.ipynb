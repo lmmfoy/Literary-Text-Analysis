{
 "cells": [
  {
   "cell_type": "code",
   "execution_count": 2,
   "metadata": {},
   "outputs": [
    {
     "data": {
      "text/plain": [
       "'This Etext file is presented by Project Gutenberg, in\\r\\ncooperation with World Library, Inc., from th'"
      ]
     },
     "execution_count": 2,
     "metadata": {},
     "output_type": "execute_result"
    }
   ],
   "source": [
    "import urllib.request\n",
    "\n",
    "#function to fetch contents of URL\n",
    "def fetch(url):\n",
    "    response = urllib.request.urlopen(url) \n",
    "    return response.read()\n",
    "\n",
    "macbethUrl = \"http://www.gutenberg.org/files/1129/1129.txt\"\n",
    "macbethSource = fetch(macbethUrl).decode()\n",
    "macbethSource[0:100] #preview"
   ]
  },
  {
   "cell_type": "code",
   "execution_count": 7,
   "metadata": {},
   "outputs": [
    {
     "data": {
      "text/plain": [
       "['  FIRST WITCH. When shall we three meet again?',\n",
       " '    In thunder, lightning, or in rain?',\n",
       " \"  SECOND WITCH. When the hurlyburly's done,\",\n",
       " \"    When the battle's lost and won.\",\n",
       " '  THIRD WITCH. That will be ere the set of sun.',\n",
       " '  FIRST WITCH. Where the place?',\n",
       " '  SECOND WITCH. Upon the heath.',\n",
       " '  THIRD WITCH. There to meet with Macbeth.',\n",
       " '  FIRST WITCH. I come, Graymalkin.',\n",
       " '  ALL. Paddock calls. Anon!',\n",
       " '    Fair is foul, and foul is fair.',\n",
       " '    Hover through the fog and filthy air.                Exeunt.',\n",
       " '  DUNCAN. What bloody man is that? He can report,',\n",
       " '    As seemeth by his plight, of the revolt',\n",
       " '    The newest state.',\n",
       " '  MALCOLM. This is the sergeant',\n",
       " '    Who like a good and hardy soldier fought',\n",
       " '    Say to the King the knowledge of the broil',\n",
       " '    As thou didst leave it.',\n",
       " '  SERGEANT. Doubtful it stood,']"
      ]
     },
     "execution_count": 7,
     "metadata": {},
     "output_type": "execute_result"
    }
   ],
   "source": [
    "import re\n",
    "\n",
    "speech = r\"^\\s{2,6}\\w.+\" #regular expression to find only lines which begin with two to six spaces\n",
    "\n",
    "#this function cleans the text by skipping lines that do not begin with 2-6 spaces\n",
    "def clean(text, startLine): #including 'startline' makes a variable so can later define which line to start from in the text\n",
    "    aText = re.sub(r\"\\n+\", \"\\n\", text) #remove white space caused by multiple line breaks\n",
    "    lines = re.sub(r\"\\r\", \"\", aText).split(\"\\n\") #remove instances of '\\r' in text, create list from new line\n",
    "    return [li for li in lines[startLine:] if re.match(speech, li)] #create list from matching lines\n",
    "\n",
    "macbeth = clean(macbethSource, 270) #clean text, begin from line 244\n",
    "macbeth[0:20] #preview first 20 lines\n"
   ]
  },
  {
   "cell_type": "code",
   "execution_count": 22,
   "metadata": {},
   "outputs": [
    {
     "data": {
      "text/plain": [
       "[' When shall we three meet again?',\n",
       " '    In thunder, lightning, or in rain?',\n",
       " \" When the hurlyburly's done,\",\n",
       " \"    When the battle's lost and won.\",\n",
       " ' That will be ere the set of sun.',\n",
       " ' Where the place?',\n",
       " ' Upon the heath.',\n",
       " ' There to meet with Macbeth.',\n",
       " ' I come, Graymalkin.',\n",
       " ' Paddock calls. Anon!',\n",
       " '    Fair is foul, and foul is fair.',\n",
       " '    Hover through the fog and filthy air.',\n",
       " ' What bloody man is that? He can report,',\n",
       " '    As seemeth by his plight, of the revolt',\n",
       " '    The newest state.',\n",
       " ' This is the sergeant',\n",
       " '    Who like a good and hardy soldier fought',\n",
       " '    Say to the King the knowledge of the broil',\n",
       " '    As thou didst leave it.',\n",
       " ' Doubtful it stood,',\n",
       " '    As two spent swimmers that do cling together',\n",
       " '    And choke their art. The merciless Macdonwald-',\n",
       " '    Worthy to be a rebel, for to that',\n",
       " '    The multiplying villainies of nature',\n",
       " '    Do swarm upon him -from the Western Isles',\n",
       " '    Of kerns and gallowglasses is supplied;',\n",
       " '    And Fortune, on his damned quarrel smiling,',\n",
       " \"    Show'd like a rebel's whore. But all's too weak;\",\n",
       " '    For brave Macbeth -well he deserves that name-',\n",
       " \"    Disdaining Fortune, with his brandish'd steel,\"]"
      ]
     },
     "execution_count": 22,
     "metadata": {},
     "output_type": "execute_result"
    }
   ],
   "source": [
    "#this function removes extra elements of the text\n",
    "def cleanLine(line):\n",
    "    line = re.sub(r\"\\[(.*?)\\]\", \"\", line) #get rid of stage directions in between square brackets - this is messing up a bit - getting rid of a couple full lines\n",
    "    line = re.sub(r\"\\s{8,40}\\w.*\", \"\", line) #remove words that come after 8-40 spaces in a line - this is to remove right justified stage directions\n",
    "    cleanText = re.sub(r\"^\\s\\s\\b[A-Z]+\\b\\s?\\b[A-Z]*\\.\", \"\", line) #remove words in all caps that appear after two spaces and are followed by a period\n",
    "    return cleanText\n",
    "\n",
    "#list loop to create list\n",
    "cleanMacbeth = [] #empty list\n",
    "for line in macbeth:\n",
    "    cleanMacbeth.append(cleanLine(line)) #create list of lines that have been cleaned\n",
    "    \n",
    "cleanMacbeth[0:30]"
   ]
  },
  {
   "cell_type": "code",
   "execution_count": null,
   "metadata": {},
   "outputs": [],
   "source": []
  },
  {
   "cell_type": "code",
   "execution_count": null,
   "metadata": {
    "scrolled": false
   },
   "outputs": [],
   "source": [
    "\n"
   ]
  },
  {
   "cell_type": "code",
   "execution_count": null,
   "metadata": {},
   "outputs": [],
   "source": []
  },
  {
   "cell_type": "code",
   "execution_count": null,
   "metadata": {},
   "outputs": [],
   "source": []
  },
  {
   "cell_type": "code",
   "execution_count": null,
   "metadata": {},
   "outputs": [],
   "source": []
  }
 ],
 "metadata": {
  "kernelspec": {
   "display_name": "Python 3",
   "language": "python",
   "name": "python3"
  },
  "language_info": {
   "codemirror_mode": {
    "name": "ipython",
    "version": 3
   },
   "file_extension": ".py",
   "mimetype": "text/x-python",
   "name": "python",
   "nbconvert_exporter": "python",
   "pygments_lexer": "ipython3",
   "version": "3.7.1"
  }
 },
 "nbformat": 4,
 "nbformat_minor": 2
}
